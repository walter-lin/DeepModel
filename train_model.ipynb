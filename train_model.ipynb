{
  "nbformat": 4,
  "nbformat_minor": 0,
  "metadata": {
    "colab": {
      "name": "train_model.ipynb",
      "provenance": [],
      "collapsed_sections": [
        "vmQN9yVakeow",
        "neHHmP-ultvf"
      ],
      "toc_visible": true,
      "authorship_tag": "ABX9TyMnZKBfjXslcnxT8f7/oGMz",
      "include_colab_link": true
    },
    "kernelspec": {
      "name": "python3",
      "display_name": "Python 3"
    },
    "accelerator": "GPU"
  },
  "cells": [
    {
      "cell_type": "markdown",
      "metadata": {
        "id": "view-in-github",
        "colab_type": "text"
      },
      "source": [
        "<a href=\"https://colab.research.google.com/github/walter-lin/DeepModel/blob/main/train_model.ipynb\" target=\"_parent\"><img src=\"https://colab.research.google.com/assets/colab-badge.svg\" alt=\"Open In Colab\"/></a>"
      ]
    },
    {
      "cell_type": "markdown",
      "metadata": {
        "id": "vmQN9yVakeow"
      },
      "source": [
        "#匯入資料方法1-連結Google雲端"
      ]
    },
    {
      "cell_type": "code",
      "metadata": {
        "colab": {
          "base_uri": "https://localhost:8080/"
        },
        "id": "FsArLSCfkSgQ",
        "outputId": "63452177-e26e-4eb0-d4ab-2374947143a8"
      },
      "source": [
        "from google.colab import drive\r\n",
        "drive.mount('/content/drive')"
      ],
      "execution_count": null,
      "outputs": [
        {
          "output_type": "stream",
          "text": [
            "Mounted at /content/drive\n"
          ],
          "name": "stdout"
        }
      ]
    },
    {
      "cell_type": "code",
      "metadata": {
        "id": "0MUTtVQZ_OgN"
      },
      "source": [
        "import os\r\n",
        "os.chdir('/content/drive/My Drive/PythonStu_CJCU/deeplearning') #切換到指定目錄\r\n",
        "# os.chdir('/content/drive/My Drive/{你的google雲端硬碟資料夾位址}')"
      ],
      "execution_count": null,
      "outputs": []
    },
    {
      "cell_type": "code",
      "metadata": {
        "id": "Jbbao16fARK-"
      },
      "source": [
        "os.listdir() #檢查目錄內容"
      ],
      "execution_count": null,
      "outputs": []
    },
    {
      "cell_type": "code",
      "metadata": {
        "id": "WB5IJA6uBitd"
      },
      "source": [
        "#資料來源：https://ithelp.ithome.com.tw/articles/10234373"
      ],
      "execution_count": null,
      "outputs": []
    },
    {
      "cell_type": "markdown",
      "metadata": {
        "id": "N8YqwVNGBuxR"
      },
      "source": [
        "#匯入資料方法2-透過共用連結下載"
      ]
    },
    {
      "cell_type": "markdown",
      "metadata": {
        "id": "RN64ADpeCHq7"
      },
      "source": [
        "**透過檔案共用連結**\r\n",
        "\r\n",
        "一般來說，Google Drive 的檔案連結會是類似下面的結構：\r\n",
        "\r\n",
        "https://drive.google.com/open?id=1duQU7xqXRsOSPYeOR0zLiSA8g_LCFzoV\r\n",
        "\r\n",
        "其中 \"open?id=\" 後面的那一串亂碼稱為 file_id\r\n",
        "\r\n",
        "在 colab 中，我們可以直接用 file_id 下載檔案，優點是這個過程不需要再手動輸入任何訊息，但缺點是下載下來的檔案在程式執行完畢後就會消失，也就是每一次都必須重新下載，使得執行時間增加。"
      ]
    },
    {
      "cell_type": "code",
      "metadata": {
        "id": "3EyNPDWpCjoy"
      },
      "source": [
        "#資料來源：https://colab.research.google.com/drive/1i41Whco5KIb7EuntKYwTVORAkAwCmlkF#scrollTo=XztYEj0oD7J3"
      ],
      "execution_count": null,
      "outputs": []
    },
    {
      "cell_type": "code",
      "metadata": {
        "id": "goCS41SiB8jb",
        "colab": {
          "base_uri": "https://localhost:8080/"
        },
        "outputId": "61110ee6-48fb-46b9-9c57-10edfe661310"
      },
      "source": [
        "# 實際連結長這樣 https://drive.google.com/file/d/1LjZJ7BiroN4RN2RjULgYU_PmbjHw6nfc/view?usp=sharing\r\n",
        "# 下載 file_id 為 \"1LjZJ7BiroN4RN2RjULgYU_PmbjHw6nfc\" 的檔案，並將它命名為 data.zip\r\n",
        "!gdown --id '1LjZJ7BiroN4RN2RjULgYU_PmbjHw6nfc' --output data.zip"
      ],
      "execution_count": null,
      "outputs": [
        {
          "output_type": "stream",
          "text": [
            "Downloading...\n",
            "From: https://drive.google.com/uc?id=1LjZJ7BiroN4RN2RjULgYU_PmbjHw6nfc\n",
            "To: /content/data.zip\n",
            "\r0.00B [00:00, ?B/s]\r6.82MB [00:00, 66.7MB/s]\r7.48MB [00:00, 65.6MB/s]\n"
          ],
          "name": "stdout"
        }
      ]
    },
    {
      "cell_type": "markdown",
      "metadata": {
        "id": "mO-LorSIlGgO"
      },
      "source": [
        "#解壓縮檔案"
      ]
    },
    {
      "cell_type": "code",
      "metadata": {
        "id": "cACvyxPqlUPw"
      },
      "source": [
        "!unzip -qq -u data.zip #解壓縮(data)的zip檔案"
      ],
      "execution_count": null,
      "outputs": []
    },
    {
      "cell_type": "markdown",
      "metadata": {
        "id": "neHHmP-ultvf"
      },
      "source": [
        "##補充說明(勿直接執行!)"
      ]
    },
    {
      "cell_type": "code",
      "metadata": {
        "colab": {
          "base_uri": "https://localhost:8080/"
        },
        "id": "55mDYcPrl9R2",
        "outputId": "abe0320c-1722-4096-f7ee-971bb8c28c07"
      },
      "source": [
        "#拿掉-qq\r\n",
        "!unzip -u data.zip #安靜模式，不顯示結果訊息(-q)"
      ],
      "execution_count": null,
      "outputs": [
        {
          "output_type": "stream",
          "text": [
            "unzip:  cannot find or open data.zip, data.zip.zip or data.zip.ZIP.\n"
          ],
          "name": "stdout"
        }
      ]
    },
    {
      "cell_type": "code",
      "metadata": {
        "colab": {
          "base_uri": "https://localhost:8080/"
        },
        "id": "UXV3Xgd7mO3X",
        "outputId": "6f3f3bdd-cbb4-4c22-b153-8f314ac5cf78"
      },
      "source": [
        "#拿掉-u\r\n",
        "!unzip -qq data.zip #系統會不斷詢問是否要取代檔案或新增目錄，一個檔案問一次，很囉唆"
      ],
      "execution_count": null,
      "outputs": [
        {
          "output_type": "stream",
          "text": [
            "unzip:  cannot find or open data.zip, data.zip.zip or data.zip.ZIP.\n"
          ],
          "name": "stdout"
        }
      ]
    },
    {
      "cell_type": "code",
      "metadata": {
        "id": "TyVG45_7qQbV"
      },
      "source": [
        "# 此指令為zip指令，與python或colab其實無關\r\n",
        "# https://colab.research.google.com/drive/17OFNepLIA1cyBtbLRz-BuatafSsslBTt?authuser=1#scrollTo=55mDYcPrl9R2&line=2&uniqifier=1"
      ],
      "execution_count": null,
      "outputs": []
    },
    {
      "cell_type": "markdown",
      "metadata": {
        "id": "JrXsUmumrje0"
      },
      "source": [
        "#Train_Model"
      ]
    },
    {
      "cell_type": "code",
      "metadata": {
        "id": "2iXmXwbWrt_s"
      },
      "source": [
        "# coding: utf-8\r\n",
        "from dataset import load_data"
      ],
      "execution_count": null,
      "outputs": []
    },
    {
      "cell_type": "code",
      "metadata": {
        "id": "rr6Qi2jq2S5w"
      },
      "source": [
        "# Step 1. 資料準備\r\n",
        "\r\n",
        "(x_train,y_train),(x_test,y_test) = load_data() #函式load_data需在同一目錄下"
      ],
      "execution_count": null,
      "outputs": []
    },
    {
      "cell_type": "code",
      "metadata": {
        "id": "4VCb0EWY2XJw"
      },
      "source": [
        "# 訓練資料打亂排序>避免連續樣本單一，降低訓練準確度\r\n",
        "import random\r\n",
        "\r\n",
        "index = [i for i in range(len(x_train))]\r\n",
        "random.shuffle(index)\r\n",
        "x_train = x_train[index]\r\n",
        "y_train = y_train[index]"
      ],
      "execution_count": null,
      "outputs": []
    },
    {
      "cell_type": "code",
      "metadata": {
        "id": "8AnnIGpH2uHI"
      },
      "source": [
        "#測試資料可以不用打亂\r\n",
        "# index = [i for i in range(len(x_test))]\r\n",
        "# random.shuffle(index)\r\n",
        "# x_test = x_test[index]\r\n",
        "# y_test = y_test[index]\r\n"
      ],
      "execution_count": null,
      "outputs": []
    },
    {
      "cell_type": "code",
      "metadata": {
        "id": "eRhRmRcc3Xqf"
      },
      "source": [
        "# 正規化(將資料每筆資料的值改為0~1)\r\n",
        "x_train_normalize = x_train.astype('float32') / 255.0\r\n",
        "x_test_normalize = x_test.astype('float32') / 255.0"
      ],
      "execution_count": null,
      "outputs": []
    },
    {
      "cell_type": "code",
      "metadata": {
        "colab": {
          "base_uri": "https://localhost:8080/"
        },
        "id": "4kMLP3cB3p4m",
        "outputId": "6c847ebf-3525-46b6-ad80-9ff26c372c03"
      },
      "source": [
        "from keras.utils import np_utils\r\n",
        "y_train_OneHot = np_utils.to_categorical(y_train)\r\n",
        "y_test_OneHot = np_utils.to_categorical(y_test)\r\n",
        "\r\n",
        "print(y_train_OneHot.shape) #印出表格\r\n",
        "print(y_test_OneHot.shape)\r\n",
        "#(列，攔) 橫向>列，直向>攔"
      ],
      "execution_count": null,
      "outputs": [
        {
          "output_type": "stream",
          "text": [
            "(21, 2)\n",
            "(21, 2)\n"
          ],
          "name": "stdout"
        }
      ]
    },
    {
      "cell_type": "code",
      "metadata": {
        "id": "Qj3E_zpPALgz"
      },
      "source": [
        "# Step 2. 建立模型\r\n",
        "\r\n",
        "from keras.models import Sequential\r\n",
        "from keras.layers import Dense, Dropout, Flatten\r\n",
        "from keras.layers import Conv2D, MaxPooling2D\r\n",
        "\r\n",
        "model = Sequential()"
      ],
      "execution_count": null,
      "outputs": []
    },
    {
      "cell_type": "code",
      "metadata": {
        "id": "k54PI--QBg2C"
      },
      "source": [
        "# 卷積層1與池化層1\r\n",
        "\r\n",
        "model.add(Conv2D(filters=32,kernel_size=(3,3),\r\n",
        "                 input_shape=(32, 32, 3), \r\n",
        "                 activation='relu', \r\n",
        "                 padding='same'))\r\n",
        "\r\n",
        "model.add(Dropout(rate=0.25))\r\n",
        "\r\n",
        "model.add(MaxPooling2D(pool_size=(2, 2)))\r\n"
      ],
      "execution_count": null,
      "outputs": []
    },
    {
      "cell_type": "code",
      "metadata": {
        "id": "Cmng2gcrBizK"
      },
      "source": [
        "# 卷積層2與池化層2\r\n",
        "\r\n",
        "model.add(Conv2D(filters=64, kernel_size=(3, 3), \r\n",
        "                 activation='relu', padding='same'))\r\n",
        "\r\n",
        "model.add(Dropout(0.25))\r\n",
        "\r\n",
        "model.add(MaxPooling2D(pool_size=(2, 2)))\r\n"
      ],
      "execution_count": null,
      "outputs": []
    },
    {
      "cell_type": "code",
      "metadata": {
        "colab": {
          "base_uri": "https://localhost:8080/"
        },
        "id": "QALbtaKvBoAK",
        "outputId": "181cd261-a938-4ff2-8b20-803729d6380b"
      },
      "source": [
        "# Step 3. 建立神經網路(平坦層、隱藏層、輸出層)\r\n",
        "\r\n",
        "model.add(Flatten())\r\n",
        "model.add(Dropout(rate=0.25))\r\n",
        "\r\n",
        "model.add(Dense(1024, activation='relu'))\r\n",
        "model.add(Dropout(rate=0.25))\r\n",
        "\r\n",
        "model.add(Dense(2, activation='softmax'))\r\n",
        "\r\n",
        "print(model.summary())\r\n"
      ],
      "execution_count": null,
      "outputs": [
        {
          "output_type": "stream",
          "text": [
            "Model: \"sequential_2\"\n",
            "_________________________________________________________________\n",
            "Layer (type)                 Output Shape              Param #   \n",
            "=================================================================\n",
            "conv2d_4 (Conv2D)            (None, 32, 32, 32)        896       \n",
            "_________________________________________________________________\n",
            "dropout_6 (Dropout)          (None, 32, 32, 32)        0         \n",
            "_________________________________________________________________\n",
            "max_pooling2d_4 (MaxPooling2 (None, 16, 16, 32)        0         \n",
            "_________________________________________________________________\n",
            "conv2d_5 (Conv2D)            (None, 16, 16, 64)        18496     \n",
            "_________________________________________________________________\n",
            "dropout_7 (Dropout)          (None, 16, 16, 64)        0         \n",
            "_________________________________________________________________\n",
            "max_pooling2d_5 (MaxPooling2 (None, 8, 8, 64)          0         \n",
            "_________________________________________________________________\n",
            "flatten_1 (Flatten)          (None, 4096)              0         \n",
            "_________________________________________________________________\n",
            "dropout_8 (Dropout)          (None, 4096)              0         \n",
            "_________________________________________________________________\n",
            "dense_2 (Dense)              (None, 1024)              4195328   \n",
            "_________________________________________________________________\n",
            "dropout_9 (Dropout)          (None, 1024)              0         \n",
            "_________________________________________________________________\n",
            "dense_3 (Dense)              (None, 2)                 2050      \n",
            "=================================================================\n",
            "Total params: 4,216,770\n",
            "Trainable params: 4,216,770\n",
            "Non-trainable params: 0\n",
            "_________________________________________________________________\n",
            "None\n"
          ],
          "name": "stdout"
        }
      ]
    },
    {
      "cell_type": "code",
      "metadata": {
        "colab": {
          "base_uri": "https://localhost:8080/"
        },
        "id": "_77s0tntByMi",
        "outputId": "a368349c-5f17-4f8c-8436-345b32e39a28"
      },
      "source": [
        "# 載入之前訓練的模型\r\n",
        "\r\n",
        "try:\r\n",
        "    model.load_weights(\"./cnn_model.h5\")\r\n",
        "    print(\"載入模型成功!繼續訓練模型\")\r\n",
        "except :    \r\n",
        "    print(\"載入模型失敗!開始訓練一個新模型\")\r\n"
      ],
      "execution_count": null,
      "outputs": [
        {
          "output_type": "stream",
          "text": [
            "載入模型成功!繼續訓練模型\n"
          ],
          "name": "stdout"
        }
      ]
    },
    {
      "cell_type": "code",
      "metadata": {
        "colab": {
          "base_uri": "https://localhost:8080/",
          "height": 981
        },
        "id": "zc18E36TB2Ra",
        "outputId": "82072a05-e287-43b0-a267-58c8d941e30e"
      },
      "source": [
        "# Step 4. 訓練模型\r\n",
        "\r\n",
        "model.compile(loss='categorical_crossentropy',optimizer='adam', metrics=['acc'])\r\n",
        "train_history=model.fit(x_train_normalize, y_train_OneHot,\r\n",
        "                        validation_split=0.2,\r\n",
        "                        epochs=12, batch_size=16, verbose=1)          \r\n",
        "\r\n",
        "import matplotlib.pyplot as plt\r\n",
        "def show_train_history(train_acc,test_acc,num):\r\n",
        "    plt.plot(train_history.history[train_acc])\r\n",
        "    plt.plot(train_history.history[test_acc])\r\n",
        "    plt.title('Train History')\r\n",
        "    plt.ylabel('Accuracy')\r\n",
        "    plt.xlabel('Epoch')\r\n",
        "    plt.legend(['train', 'test'], loc='upper left')\r\n",
        "    plt.savefig(num,dpi=300)\r\n",
        "    plt.show()\r\n",
        "\r\n",
        "show_train_history('acc','val_acc','結果圖1.jpg')\r\n",
        "show_train_history('loss','val_loss','結果圖2.jpg')\r\n"
      ],
      "execution_count": null,
      "outputs": [
        {
          "output_type": "stream",
          "text": [
            "Epoch 1/12\n",
            "1/1 [==============================] - 1s 634ms/step - loss: 0.0605 - acc: 1.0000 - val_loss: 0.9226 - val_acc: 0.4000\n",
            "Epoch 2/12\n",
            "1/1 [==============================] - 0s 35ms/step - loss: 0.0720 - acc: 1.0000 - val_loss: 1.6765 - val_acc: 0.4000\n",
            "Epoch 3/12\n",
            "1/1 [==============================] - 0s 32ms/step - loss: 0.0901 - acc: 0.9375 - val_loss: 1.2113 - val_acc: 0.4000\n",
            "Epoch 4/12\n",
            "1/1 [==============================] - 0s 33ms/step - loss: 0.0560 - acc: 1.0000 - val_loss: 0.7524 - val_acc: 0.6000\n",
            "Epoch 5/12\n",
            "1/1 [==============================] - 0s 31ms/step - loss: 0.0532 - acc: 1.0000 - val_loss: 0.8002 - val_acc: 0.6000\n",
            "Epoch 6/12\n",
            "1/1 [==============================] - 0s 42ms/step - loss: 0.0304 - acc: 1.0000 - val_loss: 1.1169 - val_acc: 0.4000\n",
            "Epoch 7/12\n",
            "1/1 [==============================] - 0s 34ms/step - loss: 0.0230 - acc: 1.0000 - val_loss: 1.4647 - val_acc: 0.4000\n",
            "Epoch 8/12\n",
            "1/1 [==============================] - 0s 36ms/step - loss: 0.0128 - acc: 1.0000 - val_loss: 1.6639 - val_acc: 0.4000\n",
            "Epoch 9/12\n",
            "1/1 [==============================] - 0s 34ms/step - loss: 0.0190 - acc: 1.0000 - val_loss: 1.4640 - val_acc: 0.4000\n",
            "Epoch 10/12\n",
            "1/1 [==============================] - 0s 147ms/step - loss: 0.0079 - acc: 1.0000 - val_loss: 1.1695 - val_acc: 0.4000\n",
            "Epoch 11/12\n",
            "1/1 [==============================] - 0s 38ms/step - loss: 0.0026 - acc: 1.0000 - val_loss: 0.9426 - val_acc: 0.6000\n",
            "Epoch 12/12\n",
            "1/1 [==============================] - 0s 35ms/step - loss: 0.0042 - acc: 1.0000 - val_loss: 0.8084 - val_acc: 0.6000\n"
          ],
          "name": "stdout"
        },
        {
          "output_type": "display_data",
          "data": {
            "image/png": "[encoded data removed]",
            "text/plain": [
              "<Figure size 432x288 with 1 Axes>"
            ]
          },
          "metadata": {
            "tags": [],
            "needs_background": "light"
          }
        },
        {
          "output_type": "display_data",
          "data": {
            "image/png": "[encoded data removed]",
            "text/plain": [
              "<Figure size 432x288 with 1 Axes>"
            ]
          },
          "metadata": {
            "tags": [],
            "needs_background": "light"
          }
        }
      ]
    },
    {
      "cell_type": "code",
      "metadata": {
        "colab": {
          "base_uri": "https://localhost:8080/"
        },
        "id": "AqFIGwsNDOsK",
        "outputId": "c216b3ce-0917-4dc1-8b45-b2f1f557a459"
      },
      "source": [
        "# Step 6. 評估模型準確率\r\n",
        "\r\n",
        "scores = model.evaluate(x_test_normalize,y_test_OneHot,verbose=0)\r\n",
        "print(scores[:2])\r\n"
      ],
      "execution_count": null,
      "outputs": [
        {
          "output_type": "stream",
          "text": [
            "[0.34713390469551086, 0.8571428656578064]\n"
          ],
          "name": "stdout"
        }
      ]
    },
    {
      "cell_type": "code",
      "metadata": {
        "colab": {
          "base_uri": "https://localhost:8080/"
        },
        "id": "M-4obgrxDWf4",
        "outputId": "4071b30a-6848-47d2-ff1b-31ed8f6373c2"
      },
      "source": [
        "# Step 7. 進行預測\r\n",
        "\r\n",
        "prediction=model.predict_classes(x_test_normalize)\r\n",
        "prediction[:2]\r\n"
      ],
      "execution_count": null,
      "outputs": [
        {
          "output_type": "stream",
          "text": [
            "/usr/local/lib/python3.6/dist-packages/tensorflow/python/keras/engine/sequential.py:450: UserWarning: `model.predict_classes()` is deprecated and will be removed after 2021-01-01. Please use instead:* `np.argmax(model.predict(x), axis=-1)`,   if your model does multi-class classification   (e.g. if it uses a `softmax` last-layer activation).* `(model.predict(x) > 0.5).astype(\"int32\")`,   if your model does binary classification   (e.g. if it uses a `sigmoid` last-layer activation).\n",
            "  warnings.warn('`model.predict_classes()` is deprecated and '\n"
          ],
          "name": "stderr"
        },
        {
          "output_type": "execute_result",
          "data": {
            "text/plain": [
              "array([0, 1])"
            ]
          },
          "metadata": {
            "tags": []
          },
          "execution_count": 37
        }
      ]
    },
    {
      "cell_type": "code",
      "metadata": {
        "colab": {
          "base_uri": "https://localhost:8080/",
          "height": 338
        },
        "id": "l4mutthCDbTg",
        "outputId": "5425e305-3c30-48fc-c101-9452afdf62ad"
      },
      "source": [
        "# 查看預測結果\r\n",
        "\r\n",
        "label_dict={0:'banana',1:\"jake the dog\"}\r\n",
        "\r\n",
        "print(label_dict)\t\t\r\n",
        "\r\n",
        "def plot_images_labels_prediction(images,labels,prediction,idx,num=10):\r\n",
        "    fig = plt.gcf()\r\n",
        "    fig.set_size_inches(12,14)\r\n",
        "    if num>25: num=25 \r\n",
        "    for i in range(0, num):\r\n",
        "        ax=plt.subplot(5,5, 1+i)\r\n",
        "        ax.imshow(images[idx],cmap='binary')\r\n",
        "                \r\n",
        "        title=str(i)+','+label_dict[labels[i]]\r\n",
        "        if len(prediction)>0:\r\n",
        "            title+='=>'+label_dict[prediction[i]]\r\n",
        "            \r\n",
        "        ax.set_title(title,fontsize=10) \r\n",
        "        ax.set_xticks([]);ax.set_yticks([])        \r\n",
        "        idx+=1 \r\n",
        "    plt.show()\r\n",
        "\r\n",
        "plot_images_labels_prediction(x_test_normalize,y_test,prediction,0,10)\r\n"
      ],
      "execution_count": null,
      "outputs": [
        {
          "output_type": "stream",
          "text": [
            "{0: 'banana', 1: 'jake the dog'}\n"
          ],
          "name": "stdout"
        },
        {
          "output_type": "display_data",
          "data": {
            "image/png": "[encoded data removed]",
            "text/plain": [
              "<Figure size 864x1008 with 10 Axes>"
            ]
          },
          "metadata": {
            "tags": []
          }
        }
      ]
    },
    {
      "cell_type": "code",
      "metadata": {
        "colab": {
          "base_uri": "https://localhost:8080/"
        },
        "id": "XVv1aMjwDvG5",
        "outputId": "160552cd-ac4a-4680-dcdf-a30422d7d1eb"
      },
      "source": [
        "# Step 8. Save Weight to h5 \r\n",
        "\r\n",
        "model.save_weights(\"cnn_model.h5\")\r\n",
        "print(\"Saved model to disk\")\r\n"
      ],
      "execution_count": null,
      "outputs": [
        {
          "output_type": "stream",
          "text": [
            "Saved model to disk\n"
          ],
          "name": "stdout"
        }
      ]
    }
  ]
}